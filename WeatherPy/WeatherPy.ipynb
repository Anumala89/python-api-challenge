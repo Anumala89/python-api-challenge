{
 "cells": [
  {
   "cell_type": "markdown",
   "metadata": {},
   "source": [
    "# WeatherPy\n",
    "\n",
    "It is clear that the temperature decreases as we move away from the equator. Since the weather data is taken when the season is close to winter in the Northern Hemisphere, most of the cities here have lower temperatures than the ones in the Southern Hemisphere. \n",
    "\n",
    "There is low to no correlation between cloudiness and latitudes of the cities. Perhaps the changing season is the reason for it. The data is from the current weather report so it may not be enough for us to show a definite relation between cloudiness and latitudes. \n",
    "\n",
    "Except for temperature, all the other elements have either low to no correlation with latitudes of the cites. If we could compare the weather of the day the data was taken with that of the past, then maybe we could formulate what the weather is actually like.\n"
   ]
  },
  {
   "cell_type": "code",
   "execution_count": null,
   "metadata": {},
   "outputs": [],
   "source": [
    "!pip install citipy"
   ]
  },
  {
   "cell_type": "code",
   "execution_count": 2,
   "metadata": {},
   "outputs": [],
   "source": [
    "#import necessary dependencies\n",
    "import matplotlib.pyplot as plt\n",
    "import pandas as pd\n",
    "import numpy as np\n",
    "from scipy import stats\n",
    "import requests\n",
    "import gmaps"
   ]
  },
  {
   "cell_type": "code",
   "execution_count": 3,
   "metadata": {},
   "outputs": [],
   "source": [
    "#Using citipy to get the cities based on latitude and longitude\n",
    "from citipy import citipy\n",
    "from api_keys import weather_api_key"
   ]
  },
  {
   "cell_type": "code",
   "execution_count": 4,
   "metadata": {},
   "outputs": [
    {
     "name": "stdout",
     "output_type": "stream",
     "text": [
      "580\n"
     ]
    }
   ],
   "source": [
    "#get the range of coordinates\n",
    "np.random.seed(150)\n",
    "latitude = np.random.randint(-90, 90, size = 1400)\n",
    "longitude = np.random.randint(-180, 180, size = 1400)\n",
    "range_df = pd.DataFrame({\"Latitude\" : latitude, \"Longitude\" : longitude})\n",
    "\n",
    "#Get the list of cities\n",
    "cities_list = []\n",
    "for ind, row in range_df.iterrows():\n",
    "    city = citipy.nearest_city(row['Latitude'], row['Longitude']).city_name\n",
    "   \n",
    "    #Add cities to the list \n",
    "    if city not in cities_list:\n",
    "        cities_list.append(city)\n",
    "\n",
    "#Count the cities to check if its sufficient        \n",
    "print(len(cities_list))    \n"
   ]
  },
  {
   "cell_type": "code",
   "execution_count": 5,
   "metadata": {},
   "outputs": [],
   "source": [
    "#Start to build the query URL\n",
    "url = \"http://api.openweathermap.org/data/2.5/weather?\"\n",
    "units = \"Imperial\"\n",
    "\n",
    "query_url = f\"{url}appid={weather_api_key}&units={units}&q=\"\n",
    "#query_url"
   ]
  },
  {
   "cell_type": "code",
   "execution_count": 6,
   "metadata": {},
   "outputs": [
    {
     "name": "stdout",
     "output_type": "stream",
     "text": [
      "Beginning Data Retrieval\n",
      "------------------------------------\n",
      "Processing Record 1 | albany\n",
      "Processing Record 2 | rikitea\n",
      "Processing Record 3 | marienburg\n",
      "Processing Record 4 | sivaki\n",
      "Processing Record 5 | bousso\n",
      "Processing Record 6 | peleduy\n",
      "Processing Record 7 | gorontalo\n",
      "Processing Record 8 | qaqortoq\n",
      "Processing Record 9 | kapaa\n",
      "Processing Record 10 | zyryanka\n",
      "Processing Record 11 | filingue\n",
      "Processing Record 12 | ushuaia\n",
      "Processing Record 13 | barrow\n",
      "Processing Record 14 | mataura\n",
      "Processing Record 15 | lagoa\n",
      "Processing Record 16 | hermanus\n",
      "Processing Record 17 | ponta do sol\n",
      "Processing Record 18 | guilin\n",
      "Processing Record 19 | puerto ayora\n",
      "Processing Record 20 | butaritari\n",
      "Processing Record 21 | camalu\n",
      "Processing Record 22 | yellowknife\n",
      "Processing Record 23 | vaini\n",
      "city not found. Skipping...\n",
      "Processing Record 24 | saint-philippe\n",
      "Processing Record 25 | goderich\n",
      "Processing Record 26 | carnarvon\n",
      "Processing Record 27 | liepaja\n",
      "Processing Record 28 | hervey bay\n",
      "Processing Record 29 | hilo\n",
      "Processing Record 30 | aztec\n",
      "Processing Record 31 | katsuura\n",
      "Processing Record 32 | cape town\n",
      "Processing Record 33 | punta arenas\n",
      "Processing Record 34 | castro\n",
      "Processing Record 35 | faya\n",
      "Processing Record 36 | nastola\n",
      "Processing Record 37 | ambilobe\n",
      "Processing Record 38 | guerrero negro\n",
      "Processing Record 39 | cabo san lucas\n",
      "Processing Record 40 | avarua\n",
      "Processing Record 41 | hovd\n",
      "Processing Record 42 | makarov\n",
      "Processing Record 43 | new norfolk\n",
      "Processing Record 44 | saint george\n",
      "city not found. Skipping...\n",
      "Processing Record 45 | flin flon\n",
      "Processing Record 46 | bluff\n",
      "Processing Record 47 | saint-pierre\n",
      "Processing Record 48 | longyearbyen\n",
      "Processing Record 49 | port elizabeth\n",
      "Processing Record 50 | mar del plata\n",
      "Processing Record 51 | awbari\n",
      "Processing Record 52 | dingle\n",
      "Processing Record 53 | karaj\n",
      "Processing Record 54 | sveti nikole\n",
      "Processing Record 55 | luderitz\n",
      "Processing Record 56 | lompoc\n",
      "Processing Record 57 | muravlenko\n",
      "city not found. Skipping...\n",
      "Processing Record 58 | blagoyevo\n",
      "Processing Record 59 | bilma\n",
      "Processing Record 60 | japura\n",
      "Processing Record 61 | saskylakh\n",
      "Processing Record 62 | victoria\n",
      "Processing Record 63 | maceio\n",
      "Processing Record 64 | varkkallai\n",
      "Processing Record 65 | qaanaaq\n",
      "Processing Record 66 | greenville\n",
      "Processing Record 67 | talnakh\n",
      "Processing Record 68 | ribeira grande\n",
      "Processing Record 69 | bay roberts\n",
      "Processing Record 70 | esperance\n",
      "city not found. Skipping...\n",
      "Processing Record 71 | pareora\n",
      "Processing Record 72 | bend\n",
      "city not found. Skipping...\n",
      "Processing Record 73 | provideniya\n",
      "city not found. Skipping...\n",
      "Processing Record 74 | kaitangata\n",
      "Processing Record 75 | epe\n",
      "city not found. Skipping...\n",
      "Processing Record 76 | hithadhoo\n",
      "city not found. Skipping...\n",
      "Processing Record 77 | waw\n",
      "Processing Record 78 | lenine\n",
      "Processing Record 79 | comodoro rivadavia\n",
      "Processing Record 80 | hammerfest\n",
      "Processing Record 81 | chokurdakh\n",
      "Processing Record 82 | hobart\n",
      "Processing Record 83 | arraial do cabo\n",
      "Processing Record 84 | krasnoselkup\n",
      "Processing Record 85 | naze\n",
      "city not found. Skipping...\n",
      "Processing Record 86 | husavik\n",
      "Processing Record 87 | vila\n",
      "Processing Record 88 | jamestown\n",
      "Processing Record 89 | ancud\n",
      "Processing Record 90 | winchester\n",
      "Processing Record 91 | puerto del rosario\n",
      "Processing Record 92 | alice springs\n",
      "Processing Record 93 | madona\n",
      "Processing Record 94 | labuan\n",
      "Processing Record 95 | nikolskoye\n",
      "Processing Record 96 | christchurch\n",
      "Processing Record 97 | saiha\n",
      "city not found. Skipping...\n",
      "Processing Record 98 | busselton\n",
      "Processing Record 99 | aktash\n",
      "Processing Record 100 | malinyi\n",
      "Processing Record 101 | lethem\n",
      "Processing Record 102 | bredasdorp\n",
      "Processing Record 103 | tasiilaq\n",
      "Processing Record 104 | korla\n",
      "Processing Record 105 | kodiak\n",
      "Processing Record 106 | janfida\n",
      "Processing Record 107 | craig\n",
      "Processing Record 108 | fort nelson\n",
      "Processing Record 109 | broome\n",
      "Processing Record 110 | atuona\n",
      "Processing Record 111 | mayo\n",
      "Processing Record 112 | bodden town\n",
      "Processing Record 113 | carbonia\n",
      "Processing Record 114 | ingham\n",
      "Processing Record 115 | cururupu\n",
      "Processing Record 116 | yarmouth\n",
      "Processing Record 117 | dir\n",
      "Processing Record 118 | avera\n",
      "city not found. Skipping...\n",
      "Processing Record 119 | nuuk\n",
      "Processing Record 120 | thompson\n",
      "Processing Record 121 | mao\n",
      "Processing Record 122 | martyush\n",
      "Processing Record 123 | virden\n",
      "Processing Record 124 | buchanan\n",
      "Processing Record 125 | gordeyevka\n",
      "Processing Record 126 | tall kayf\n",
      "Processing Record 127 | bandarbeyla\n",
      "Processing Record 128 | norman wells\n",
      "Processing Record 129 | najran\n",
      "Processing Record 130 | namibe\n",
      "Processing Record 131 | ilulissat\n",
      "Processing Record 132 | ustka\n",
      "Processing Record 133 | tuktoyaktuk\n",
      "Processing Record 134 | hobyo\n",
      "Processing Record 135 | klaksvik\n",
      "Processing Record 136 | torbay\n",
      "Processing Record 137 | poya\n",
      "Processing Record 138 | faanui\n",
      "Processing Record 139 | kedrovyy\n",
      "Processing Record 140 | airai\n",
      "Processing Record 141 | georgetown\n",
      "Processing Record 142 | kovdor\n",
      "Processing Record 143 | ciudad real\n",
      "Processing Record 144 | upernavik\n",
      "Processing Record 145 | tiksi\n",
      "city not found. Skipping...\n",
      "Processing Record 146 | poum\n",
      "Processing Record 147 | clyde river\n",
      "city not found. Skipping...\n",
      "Processing Record 148 | hainburg\n",
      "Processing Record 149 | cayenne\n",
      "Processing Record 150 | ossora\n",
      "Processing Record 151 | karasjok\n",
      "Processing Record 152 | nanortalik\n",
      "Processing Record 153 | palana\n",
      "Processing Record 154 | yerbogachen\n",
      "Processing Record 155 | pak phanang\n",
      "Processing Record 156 | east london\n",
      "Processing Record 157 | burlington\n",
      "Processing Record 158 | whitianga\n",
      "Processing Record 159 | vardo\n",
      "city not found. Skipping...\n",
      "Processing Record 160 | porciuncula\n",
      "Processing Record 161 | wilmington\n",
      "Processing Record 162 | batagay\n",
      "Processing Record 163 | constitucion\n",
      "Processing Record 164 | pirovskoye\n",
      "Processing Record 165 | oksfjord\n",
      "Processing Record 166 | dikson\n",
      "Processing Record 167 | souillac\n",
      "Processing Record 168 | cairns\n",
      "Processing Record 169 | caramoran\n",
      "Processing Record 170 | harper\n",
      "Processing Record 171 | rudnaya pristan\n",
      "Processing Record 172 | ahipara\n",
      "Processing Record 173 | norrtalje\n",
      "Processing Record 174 | manadhoo\n",
      "city not found. Skipping...\n",
      "Processing Record 175 | mali\n",
      "Processing Record 176 | ust-ishim\n",
      "Processing Record 177 | kropachevo\n",
      "city not found. Skipping...\n",
      "city not found. Skipping...\n",
      "Processing Record 178 | beterou\n",
      "Processing Record 179 | caramay\n",
      "Processing Record 180 | makakilo city\n",
      "Processing Record 181 | kununurra\n",
      "Processing Record 182 | mahebourg\n",
      "Processing Record 183 | villa del rosario\n",
      "Processing Record 184 | makinsk\n",
      "Processing Record 185 | shirvan\n",
      "Processing Record 186 | ixtapa\n",
      "Processing Record 187 | hokitika\n",
      "Processing Record 188 | erenhot\n",
      "city not found. Skipping...\n",
      "Processing Record 189 | cherskiy\n",
      "Processing Record 190 | tura\n",
      "Processing Record 191 | hosanagara\n",
      "Processing Record 192 | wolgast\n",
      "Processing Record 193 | nhulunbuy\n",
      "Processing Record 194 | praia da vitoria\n",
      "Processing Record 195 | rawson\n",
      "Processing Record 196 | lasa\n",
      "Processing Record 197 | ragama\n",
      "Processing Record 198 | cockburn town\n",
      "city not found. Skipping...\n",
      "Processing Record 199 | camacha\n",
      "Processing Record 200 | kismayo\n",
      "Processing Record 201 | kimbe\n",
      "Processing Record 202 | sao filipe\n",
      "Processing Record 203 | matagami\n",
      "Processing Record 204 | port alfred\n",
      "Processing Record 205 | saint anthony\n",
      "Processing Record 206 | bengkulu\n",
      "Processing Record 207 | portland\n",
      "Processing Record 208 | cidreira\n",
      "Processing Record 209 | east wenatchee bench\n",
      "Processing Record 210 | saldanha\n",
      "Processing Record 211 | biskamzha\n",
      "Processing Record 212 | porto novo\n",
      "Processing Record 213 | batagay-alyta\n",
      "Processing Record 214 | greeneville\n",
      "Processing Record 215 | ulladulla\n",
      "Processing Record 216 | vestmannaeyjar\n",
      "city not found. Skipping...\n",
      "Processing Record 217 | tuatapere\n",
      "Processing Record 218 | mansa\n",
      "Processing Record 219 | oda\n",
      "Processing Record 220 | bubaque\n",
      "Processing Record 221 | sola\n",
      "Processing Record 222 | vila franca do campo\n",
      "Processing Record 223 | kavaratti\n",
      "city not found. Skipping...\n",
      "Processing Record 224 | chuy\n",
      "Processing Record 225 | trincomalee\n",
      "Processing Record 226 | tailai\n",
      "Processing Record 227 | novopokrovka\n",
      "Processing Record 228 | waddan\n",
      "Processing Record 229 | aykino\n",
      "Processing Record 230 | changli\n",
      "Processing Record 231 | muros\n"
     ]
    },
    {
     "name": "stdout",
     "output_type": "stream",
     "text": [
      "Processing Record 232 | neryungri\n",
      "city not found. Skipping...\n",
      "Processing Record 233 | watari\n",
      "Processing Record 234 | lingyuan\n",
      "Processing Record 235 | nyamuswa\n",
      "Processing Record 236 | makokou\n",
      "Processing Record 237 | port moresby\n",
      "Processing Record 238 | heihe\n",
      "Processing Record 239 | khatanga\n",
      "Processing Record 240 | opuwo\n",
      "Processing Record 241 | xuddur\n",
      "Processing Record 242 | alekseyevka\n",
      "Processing Record 243 | wangou\n",
      "city not found. Skipping...\n",
      "Processing Record 244 | shimoda\n",
      "Processing Record 245 | severo-kurilsk\n",
      "Processing Record 246 | aykhal\n",
      "Processing Record 247 | port lincoln\n",
      "Processing Record 248 | morehead\n",
      "Processing Record 249 | vila velha\n",
      "Processing Record 250 | marsa matruh\n",
      "Processing Record 251 | vilyuysk\n",
      "Processing Record 252 | asau\n",
      "city not found. Skipping...\n",
      "Processing Record 253 | nanakuli\n",
      "Processing Record 254 | vostok\n",
      "Processing Record 255 | pinega\n",
      "city not found. Skipping...\n",
      "Processing Record 256 | moindou\n",
      "Processing Record 257 | hambantota\n",
      "Processing Record 258 | omboue\n",
      "Processing Record 259 | hay river\n",
      "Processing Record 260 | manicore\n",
      "Processing Record 261 | pedernales\n",
      "Processing Record 262 | antalaha\n",
      "city not found. Skipping...\n",
      "Processing Record 263 | rio claro\n",
      "Processing Record 264 | verkhovyna\n",
      "city not found. Skipping...\n",
      "Processing Record 265 | kaeo\n",
      "Processing Record 266 | egersund\n",
      "city not found. Skipping...\n",
      "Processing Record 267 | koscierzyna\n",
      "Processing Record 268 | kumphawapi\n",
      "Processing Record 269 | chornukhy\n",
      "Processing Record 270 | beyneu\n",
      "city not found. Skipping...\n",
      "city not found. Skipping...\n",
      "Processing Record 271 | hasaki\n",
      "Processing Record 272 | caceres\n",
      "Processing Record 273 | cabedelo\n",
      "Processing Record 274 | namatanai\n",
      "Processing Record 275 | baykit\n",
      "Processing Record 276 | plastun\n",
      "Processing Record 277 | agua branca\n",
      "Processing Record 278 | katobu\n",
      "Processing Record 279 | maloy\n",
      "Processing Record 280 | san quintin\n",
      "Processing Record 281 | menzelinsk\n",
      "Processing Record 282 | presidente venceslau\n",
      "Processing Record 283 | kasongo-lunda\n",
      "Processing Record 284 | urengoy\n",
      "Processing Record 285 | nemuro\n",
      "Processing Record 286 | tilichiki\n",
      "Processing Record 287 | itarema\n",
      "Processing Record 288 | xiongzhou\n",
      "Processing Record 289 | rio gallegos\n",
      "Processing Record 290 | lyuban\n",
      "Processing Record 291 | naryan-mar\n",
      "city not found. Skipping...\n",
      "Processing Record 292 | olafsvik\n",
      "Processing Record 293 | bad hofgastein\n",
      "Processing Record 294 | jizan\n",
      "Processing Record 295 | dunedin\n",
      "Processing Record 296 | imbituba\n",
      "Processing Record 297 | kangaba\n",
      "Processing Record 298 | ilhabela\n",
      "Processing Record 299 | batavia\n",
      "Processing Record 300 | aden\n",
      "Processing Record 301 | savannah bight\n",
      "city not found. Skipping...\n",
      "Processing Record 302 | pevek\n",
      "Processing Record 303 | orel\n",
      "Processing Record 304 | cleveland\n",
      "Processing Record 305 | sayyan\n",
      "Processing Record 306 | kahului\n",
      "Processing Record 307 | tateyama\n",
      "Processing Record 308 | senneterre\n",
      "Processing Record 309 | yar-sale\n",
      "Processing Record 310 | kuytun\n",
      "Processing Record 311 | ketchikan\n",
      "Processing Record 312 | los llanos de aridane\n",
      "Processing Record 313 | itarantim\n",
      "Processing Record 314 | xapuri\n",
      "Processing Record 315 | teknaf\n",
      "Processing Record 316 | kargat\n",
      "Processing Record 317 | wanaka\n",
      "Processing Record 318 | sijunjung\n",
      "Processing Record 319 | kyra\n",
      "Processing Record 320 | ewa beach\n",
      "city not found. Skipping...\n",
      "Processing Record 321 | port alberni\n",
      "Processing Record 322 | lorengau\n",
      "Processing Record 323 | grenfell\n",
      "city not found. Skipping...\n",
      "Processing Record 324 | kamyshin\n",
      "Processing Record 325 | pisco\n",
      "Processing Record 326 | ipixuna\n",
      "Processing Record 327 | wajima\n",
      "Processing Record 328 | kavieng\n",
      "Processing Record 329 | salalah\n",
      "Processing Record 330 | bethel\n",
      "Processing Record 331 | coquimbo\n",
      "Processing Record 332 | scarborough\n",
      "Processing Record 333 | bilibino\n",
      "Processing Record 334 | veliki preslav\n",
      "Processing Record 335 | grindavik\n",
      "Processing Record 336 | kushiro\n",
      "Processing Record 337 | malacacheta\n",
      "Processing Record 338 | fairbanks\n",
      "city not found. Skipping...\n",
      "Processing Record 339 | caravelas\n",
      "Processing Record 340 | padang\n",
      "Processing Record 341 | beringovskiy\n",
      "Processing Record 342 | davila\n",
      "Processing Record 343 | banjarmasin\n",
      "Processing Record 344 | camara de lobos\n",
      "city not found. Skipping...\n",
      "Processing Record 345 | millinocket\n",
      "Processing Record 346 | novoagansk\n",
      "Processing Record 347 | saint-georges\n",
      "Processing Record 348 | sovetskiy\n",
      "Processing Record 349 | uthal\n",
      "Processing Record 350 | sabang\n",
      "Processing Record 351 | dinar\n",
      "Processing Record 352 | ponta delgada\n",
      "Processing Record 353 | bail hongal\n",
      "Processing Record 354 | cartagena\n",
      "Processing Record 355 | quatre cocos\n",
      "Processing Record 356 | sydney\n",
      "Processing Record 357 | ambulu\n",
      "Processing Record 358 | aklavik\n",
      "Processing Record 359 | codrington\n",
      "city not found. Skipping...\n",
      "Processing Record 360 | egvekinot\n",
      "Processing Record 361 | waitati\n",
      "Processing Record 362 | banda aceh\n",
      "city not found. Skipping...\n",
      "Processing Record 363 | bahia blanca\n",
      "Processing Record 364 | mahon\n",
      "Processing Record 365 | arica\n",
      "Processing Record 366 | batken\n",
      "Processing Record 367 | manosque\n",
      "Processing Record 368 | bhikangaon\n",
      "Processing Record 369 | berlevag\n",
      "Processing Record 370 | catamarca\n",
      "Processing Record 371 | praya\n",
      "Processing Record 372 | sitka\n",
      "Processing Record 373 | alofi\n",
      "Processing Record 374 | starachowice\n",
      "Processing Record 375 | tubuala\n",
      "Processing Record 376 | rensvik\n",
      "Processing Record 377 | rawlins\n",
      "Processing Record 378 | carnot\n",
      "Processing Record 379 | evensk\n",
      "Processing Record 380 | preston\n",
      "Processing Record 381 | jalu\n",
      "city not found. Skipping...\n",
      "Processing Record 382 | inhambane\n",
      "Processing Record 383 | bhairab bazar\n",
      "Processing Record 384 | bereda\n",
      "city not found. Skipping...\n",
      "Processing Record 385 | nicoya\n",
      "Processing Record 386 | gumdag\n",
      "Processing Record 387 | masallatah\n",
      "city not found. Skipping...\n",
      "Processing Record 388 | samarai\n",
      "Processing Record 389 | venezuela\n",
      "Processing Record 390 | brooks\n",
      "Processing Record 391 | pangnirtung\n",
      "Processing Record 392 | barra patuca\n",
      "Processing Record 393 | adrar\n",
      "Processing Record 394 | iguape\n",
      "Processing Record 395 | champerico\n",
      "Processing Record 396 | pine bluff\n",
      "Processing Record 397 | skjervoy\n",
      "Processing Record 398 | madingou\n",
      "Processing Record 399 | gilgit\n",
      "city not found. Skipping...\n",
      "Processing Record 400 | touros\n",
      "Processing Record 401 | flinders\n",
      "Processing Record 402 | wanlaweyn\n",
      "Processing Record 403 | uusikaupunki\n",
      "Processing Record 404 | mildura\n",
      "Processing Record 405 | banda\n",
      "Processing Record 406 | yulara\n",
      "Processing Record 407 | tual\n",
      "Processing Record 408 | umm lajj\n",
      "Processing Record 409 | yurla\n",
      "Processing Record 410 | matranovak\n",
      "city not found. Skipping...\n",
      "Processing Record 411 | babstovo\n",
      "Processing Record 412 | laguna\n",
      "Processing Record 413 | mazagao\n",
      "Processing Record 414 | kirkwood\n",
      "Processing Record 415 | arlit\n",
      "Processing Record 416 | aswan\n",
      "Processing Record 417 | dehloran\n",
      "Processing Record 418 | cortes\n",
      "Processing Record 419 | koutsouras\n",
      "Processing Record 420 | santa marta\n",
      "Processing Record 421 | bambanglipuro\n",
      "Processing Record 422 | prince rupert\n",
      "Processing Record 423 | vangaindrano\n",
      "city not found. Skipping...\n",
      "Processing Record 424 | teya\n",
      "Processing Record 425 | talcahuano\n",
      "Processing Record 426 | hofn\n",
      "Processing Record 427 | urusha\n",
      "city not found. Skipping...\n",
      "Processing Record 428 | nizhnevartovsk\n",
      "Processing Record 429 | timra\n",
      "Processing Record 430 | sorland\n",
      "Processing Record 431 | udachnyy\n",
      "Processing Record 432 | tahoua\n",
      "Processing Record 433 | pandan\n",
      "Processing Record 434 | sao joao da barra\n",
      "Processing Record 435 | gisborne\n",
      "Processing Record 436 | narsaq\n",
      "Processing Record 437 | nome\n",
      "Processing Record 438 | thunder bay\n",
      "Processing Record 439 | kenora\n",
      "Processing Record 440 | mount gambier\n",
      "Processing Record 441 | arman\n",
      "Processing Record 442 | port hawkesbury\n",
      "Processing Record 443 | lebu\n",
      "Processing Record 444 | aksu\n",
      "city not found. Skipping...\n",
      "Processing Record 445 | malur\n",
      "Processing Record 446 | santa cruz\n",
      "Processing Record 447 | the valley\n",
      "Processing Record 448 | keighley\n",
      "Processing Record 449 | junction city\n",
      "Processing Record 450 | poso\n",
      "Processing Record 451 | ugoofaaru\n",
      "Processing Record 452 | copiapo\n",
      "Processing Record 453 | mbigou\n",
      "Processing Record 454 | kenai\n",
      "Processing Record 455 | port hardy\n",
      "Processing Record 456 | kokopo\n",
      "Processing Record 457 | meulaboh\n",
      "Processing Record 458 | kruisfontein\n",
      "Processing Record 459 | ilheus\n"
     ]
    },
    {
     "name": "stdout",
     "output_type": "stream",
     "text": [
      "Processing Record 460 | charters towers\n",
      "Processing Record 461 | yong peng\n",
      "Processing Record 462 | sidhi\n",
      "Processing Record 463 | geraldton\n",
      "Processing Record 464 | delvine\n",
      "Processing Record 465 | fortuna\n",
      "Processing Record 466 | front royal\n",
      "Processing Record 467 | swan hill\n",
      "Processing Record 468 | recodo\n",
      "Processing Record 469 | bafq\n",
      "Processing Record 470 | imeni morozova\n",
      "Processing Record 471 | baghmara\n",
      "Processing Record 472 | santa isabel do rio negro\n",
      "Processing Record 473 | mecca\n",
      "Processing Record 474 | mackay\n",
      "Processing Record 475 | karratha\n",
      "city not found. Skipping...\n",
      "Processing Record 476 | brownsville\n",
      "Processing Record 477 | ushumun\n",
      "Processing Record 478 | viedma\n",
      "city not found. Skipping...\n",
      "Processing Record 479 | akyab\n",
      "Processing Record 480 | vanimo\n",
      "Processing Record 481 | san ramon\n",
      "Processing Record 482 | bambous virieux\n",
      "Processing Record 483 | san antonio\n",
      "Processing Record 484 | elk point\n",
      "Processing Record 485 | conceicao do araguaia\n",
      "Processing Record 486 | phan thiet\n",
      "Processing Record 487 | soyo\n",
      "Processing Record 488 | stepnyak\n",
      "Processing Record 489 | tezu\n",
      "Processing Record 490 | balabac\n",
      "Processing Record 491 | kampong chhnang\n",
      "Processing Record 492 | cozumel\n",
      "Processing Record 493 | barela\n",
      "Processing Record 494 | rio cuarto\n",
      "Processing Record 495 | pingliang\n",
      "Processing Record 496 | seoul\n",
      "Processing Record 497 | montepuez\n",
      "Processing Record 498 | nizhniy kuranakh\n",
      "Processing Record 499 | mirnyy\n",
      "Processing Record 500 | hazleton\n",
      "Processing Record 501 | nioki\n",
      "Processing Record 502 | pandan niog\n",
      "Processing Record 503 | tapes\n",
      "Processing Record 504 | san alberto\n",
      "Processing Record 505 | teresina\n",
      "Processing Record 506 | parabel\n",
      "Processing Record 507 | havoysund\n",
      "Processing Record 508 | mabay\n",
      "Processing Record 509 | tiarei\n",
      "Processing Record 510 | kreminna\n",
      "Processing Record 511 | saint-andre-les-vergers\n",
      "Processing Record 512 | vitorino freire\n",
      "Processing Record 513 | spas\n",
      "Processing Record 514 | launceston\n",
      "Processing Record 515 | eydhafushi\n",
      "Processing Record 516 | ardakan\n",
      "Processing Record 517 | bathsheba\n",
      "Processing Record 518 | la ronge\n",
      "city not found. Skipping...\n",
      "Processing Record 519 | stawell\n",
      "city not found. Skipping...\n",
      "city not found. Skipping...\n",
      "Processing Record 520 | nara\n",
      "Processing Record 521 | paamiut\n",
      "Processing Record 522 | kamaishi\n",
      "city not found. Skipping...\n",
      "Processing Record 523 | boguchany\n",
      "Processing Record 524 | ambon\n",
      "Processing Record 525 | iqaluit\n",
      "Processing Record 526 | san jose\n",
      "Processing Record 527 | acapulco\n",
      "Processing Record 528 | takaka\n",
      "------------------------------------\n",
      "Data Retrival Complete\n"
     ]
    }
   ],
   "source": [
    "#create a list for the data needed\n",
    "cities = [] \n",
    "lat =[]\n",
    "lng = []\n",
    "temp = []\n",
    "humidity =[]\n",
    "cloud = []\n",
    "wind = []\n",
    "country =[]\n",
    "date = []\n",
    "record = 1\n",
    "\n",
    "print(f'Beginning Data Retrieval')\n",
    "print(f'------------------------------------')\n",
    "\n",
    "#loop through the list of cities and perform a request for each data\n",
    "for city in cities_list:\n",
    "    \n",
    "    try:\n",
    "        response = requests.get(query_url + city).json()\n",
    "        cities.append(response['name'])\n",
    "        lat.append(response['coord']['lat'])\n",
    "        lng.append(response['coord']['lon'])\n",
    "        temp.append(response['main']['temp_max'])\n",
    "        humidity.append(response['main']['humidity'])\n",
    "        cloud.append(response['clouds']['all'])\n",
    "        wind.append(response['wind']['speed'])\n",
    "        country.append(response['sys']['country'])\n",
    "        date.append(response['dt'])\n",
    "        print(f'Processing Record {record} | {city}')\n",
    "        \n",
    "    #add record by 1\n",
    "        record = record + 1\n",
    "    \n",
    "    #for cities with no records\n",
    "    except:\n",
    "        print(f\"city not found. Skipping...\")\n",
    "\n",
    "print(f'------------------------------------')\n",
    "print(f'Data Retrival Complete')        "
   ]
  },
  {
   "cell_type": "code",
   "execution_count": 7,
   "metadata": {},
   "outputs": [
    {
     "data": {
      "text/plain": [
       "City          528\n",
       "lat           528\n",
       "lng           528\n",
       "Max Temp      528\n",
       "Humidity      528\n",
       "Clouds        528\n",
       "Wind Speed    528\n",
       "Country       528\n",
       "Date          528\n",
       "dtype: int64"
      ]
     },
     "execution_count": 7,
     "metadata": {},
     "output_type": "execute_result"
    }
   ],
   "source": [
    "#Create a dataframe for the data retrieved \n",
    "weather_df = pd.DataFrame({\n",
    "    \"City\" : cities,\n",
    "    \"lat\": lat,\n",
    "    \"lng\": lng,\n",
    "    \"Max Temp\": temp, \n",
    "    \"Humidity\": humidity,\n",
    "    \"Clouds\": cloud,\n",
    "    \"Wind Speed\": wind,\n",
    "    \"Country\": country,\n",
    "    \"Date\":date        \n",
    "})\n",
    "\n",
    "#Check the data\n",
    "weather_df.count()"
   ]
  },
  {
   "cell_type": "code",
   "execution_count": 44,
   "metadata": {},
   "outputs": [
    {
     "data": {
      "text/html": [
       "<div>\n",
       "<style scoped>\n",
       "    .dataframe tbody tr th:only-of-type {\n",
       "        vertical-align: middle;\n",
       "    }\n",
       "\n",
       "    .dataframe tbody tr th {\n",
       "        vertical-align: top;\n",
       "    }\n",
       "\n",
       "    .dataframe thead th {\n",
       "        text-align: right;\n",
       "    }\n",
       "</style>\n",
       "<table border=\"1\" class=\"dataframe\">\n",
       "  <thead>\n",
       "    <tr style=\"text-align: right;\">\n",
       "      <th></th>\n",
       "      <th>City</th>\n",
       "      <th>lat</th>\n",
       "      <th>lng</th>\n",
       "      <th>Max Temp</th>\n",
       "      <th>Humidity</th>\n",
       "      <th>Clouds</th>\n",
       "      <th>Wind Speed</th>\n",
       "      <th>Country</th>\n",
       "      <th>Date</th>\n",
       "    </tr>\n",
       "  </thead>\n",
       "  <tbody>\n",
       "    <tr>\n",
       "      <th>0</th>\n",
       "      <td>Albany</td>\n",
       "      <td>42.60</td>\n",
       "      <td>-73.97</td>\n",
       "      <td>73.00</td>\n",
       "      <td>45</td>\n",
       "      <td>16</td>\n",
       "      <td>7.47</td>\n",
       "      <td>US</td>\n",
       "      <td>1600898722</td>\n",
       "    </tr>\n",
       "    <tr>\n",
       "      <th>1</th>\n",
       "      <td>Rikitea</td>\n",
       "      <td>-23.12</td>\n",
       "      <td>-134.97</td>\n",
       "      <td>72.79</td>\n",
       "      <td>73</td>\n",
       "      <td>1</td>\n",
       "      <td>11.99</td>\n",
       "      <td>PF</td>\n",
       "      <td>1600898722</td>\n",
       "    </tr>\n",
       "    <tr>\n",
       "      <th>2</th>\n",
       "      <td>Malbork</td>\n",
       "      <td>54.04</td>\n",
       "      <td>19.03</td>\n",
       "      <td>64.40</td>\n",
       "      <td>63</td>\n",
       "      <td>50</td>\n",
       "      <td>7.63</td>\n",
       "      <td>PL</td>\n",
       "      <td>1600898723</td>\n",
       "    </tr>\n",
       "    <tr>\n",
       "      <th>3</th>\n",
       "      <td>Sivaki</td>\n",
       "      <td>52.63</td>\n",
       "      <td>126.75</td>\n",
       "      <td>49.78</td>\n",
       "      <td>96</td>\n",
       "      <td>100</td>\n",
       "      <td>9.80</td>\n",
       "      <td>RU</td>\n",
       "      <td>1600898723</td>\n",
       "    </tr>\n",
       "    <tr>\n",
       "      <th>4</th>\n",
       "      <td>Bousso</td>\n",
       "      <td>10.48</td>\n",
       "      <td>16.71</td>\n",
       "      <td>73.76</td>\n",
       "      <td>89</td>\n",
       "      <td>100</td>\n",
       "      <td>4.97</td>\n",
       "      <td>TD</td>\n",
       "      <td>1600898723</td>\n",
       "    </tr>\n",
       "  </tbody>\n",
       "</table>\n",
       "</div>"
      ],
      "text/plain": [
       "      City    lat     lng  Max Temp  Humidity  Clouds  Wind Speed Country  \\\n",
       "0   Albany  42.60  -73.97     73.00        45      16        7.47      US   \n",
       "1  Rikitea -23.12 -134.97     72.79        73       1       11.99      PF   \n",
       "2  Malbork  54.04   19.03     64.40        63      50        7.63      PL   \n",
       "3   Sivaki  52.63  126.75     49.78        96     100        9.80      RU   \n",
       "4   Bousso  10.48   16.71     73.76        89     100        4.97      TD   \n",
       "\n",
       "         Date  \n",
       "0  1600898722  \n",
       "1  1600898722  \n",
       "2  1600898723  \n",
       "3  1600898723  \n",
       "4  1600898723  "
      ]
     },
     "execution_count": 44,
     "metadata": {},
     "output_type": "execute_result"
    }
   ],
   "source": [
    "#Display the DataFrame\n",
    "weather_df.head()"
   ]
  },
  {
   "cell_type": "code",
   "execution_count": 10,
   "metadata": {},
   "outputs": [
    {
     "data": {
      "text/html": [
       "<div>\n",
       "<style scoped>\n",
       "    .dataframe tbody tr th:only-of-type {\n",
       "        vertical-align: middle;\n",
       "    }\n",
       "\n",
       "    .dataframe tbody tr th {\n",
       "        vertical-align: top;\n",
       "    }\n",
       "\n",
       "    .dataframe thead th {\n",
       "        text-align: right;\n",
       "    }\n",
       "</style>\n",
       "<table border=\"1\" class=\"dataframe\">\n",
       "  <thead>\n",
       "    <tr style=\"text-align: right;\">\n",
       "      <th></th>\n",
       "      <th>lat</th>\n",
       "      <th>lng</th>\n",
       "      <th>Max Temp</th>\n",
       "      <th>Humidity</th>\n",
       "      <th>Clouds</th>\n",
       "      <th>Wind Speed</th>\n",
       "      <th>Date</th>\n",
       "    </tr>\n",
       "  </thead>\n",
       "  <tbody>\n",
       "    <tr>\n",
       "      <th>count</th>\n",
       "      <td>528.000000</td>\n",
       "      <td>528.000000</td>\n",
       "      <td>528.000000</td>\n",
       "      <td>528.000000</td>\n",
       "      <td>528.000000</td>\n",
       "      <td>528.000000</td>\n",
       "      <td>5.280000e+02</td>\n",
       "    </tr>\n",
       "    <tr>\n",
       "      <th>mean</th>\n",
       "      <td>21.837197</td>\n",
       "      <td>23.224583</td>\n",
       "      <td>64.686989</td>\n",
       "      <td>71.810606</td>\n",
       "      <td>52.034091</td>\n",
       "      <td>8.071383</td>\n",
       "      <td>1.600899e+09</td>\n",
       "    </tr>\n",
       "    <tr>\n",
       "      <th>std</th>\n",
       "      <td>33.994840</td>\n",
       "      <td>91.553862</td>\n",
       "      <td>16.078306</td>\n",
       "      <td>20.455304</td>\n",
       "      <td>37.992094</td>\n",
       "      <td>5.739868</td>\n",
       "      <td>6.731316e+01</td>\n",
       "    </tr>\n",
       "    <tr>\n",
       "      <th>min</th>\n",
       "      <td>-54.800000</td>\n",
       "      <td>-179.170000</td>\n",
       "      <td>16.880000</td>\n",
       "      <td>1.000000</td>\n",
       "      <td>0.000000</td>\n",
       "      <td>0.450000</td>\n",
       "      <td>1.600898e+09</td>\n",
       "    </tr>\n",
       "    <tr>\n",
       "      <th>25%</th>\n",
       "      <td>-3.867500</td>\n",
       "      <td>-53.310000</td>\n",
       "      <td>52.977500</td>\n",
       "      <td>61.000000</td>\n",
       "      <td>13.750000</td>\n",
       "      <td>4.135000</td>\n",
       "      <td>1.600899e+09</td>\n",
       "    </tr>\n",
       "    <tr>\n",
       "      <th>50%</th>\n",
       "      <td>28.175000</td>\n",
       "      <td>25.540000</td>\n",
       "      <td>66.200000</td>\n",
       "      <td>76.500000</td>\n",
       "      <td>55.500000</td>\n",
       "      <td>6.930000</td>\n",
       "      <td>1.600899e+09</td>\n",
       "    </tr>\n",
       "    <tr>\n",
       "      <th>75%</th>\n",
       "      <td>50.247500</td>\n",
       "      <td>103.025000</td>\n",
       "      <td>77.000000</td>\n",
       "      <td>88.000000</td>\n",
       "      <td>90.000000</td>\n",
       "      <td>10.290000</td>\n",
       "      <td>1.600899e+09</td>\n",
       "    </tr>\n",
       "    <tr>\n",
       "      <th>max</th>\n",
       "      <td>78.220000</td>\n",
       "      <td>179.320000</td>\n",
       "      <td>98.600000</td>\n",
       "      <td>100.000000</td>\n",
       "      <td>100.000000</td>\n",
       "      <td>38.030000</td>\n",
       "      <td>1.600899e+09</td>\n",
       "    </tr>\n",
       "  </tbody>\n",
       "</table>\n",
       "</div>"
      ],
      "text/plain": [
       "              lat         lng    Max Temp    Humidity      Clouds  Wind Speed  \\\n",
       "count  528.000000  528.000000  528.000000  528.000000  528.000000  528.000000   \n",
       "mean    21.837197   23.224583   64.686989   71.810606   52.034091    8.071383   \n",
       "std     33.994840   91.553862   16.078306   20.455304   37.992094    5.739868   \n",
       "min    -54.800000 -179.170000   16.880000    1.000000    0.000000    0.450000   \n",
       "25%     -3.867500  -53.310000   52.977500   61.000000   13.750000    4.135000   \n",
       "50%     28.175000   25.540000   66.200000   76.500000   55.500000    6.930000   \n",
       "75%     50.247500  103.025000   77.000000   88.000000   90.000000   10.290000   \n",
       "max     78.220000  179.320000   98.600000  100.000000  100.000000   38.030000   \n",
       "\n",
       "               Date  \n",
       "count  5.280000e+02  \n",
       "mean   1.600899e+09  \n",
       "std    6.731316e+01  \n",
       "min    1.600898e+09  \n",
       "25%    1.600899e+09  \n",
       "50%    1.600899e+09  \n",
       "75%    1.600899e+09  \n",
       "max    1.600899e+09  "
      ]
     },
     "execution_count": 10,
     "metadata": {},
     "output_type": "execute_result"
    }
   ],
   "source": [
    "#Check the stat of the dataframe\n",
    "weather_df.describe()"
   ]
  },
  {
   "cell_type": "code",
   "execution_count": 42,
   "metadata": {},
   "outputs": [],
   "source": [
    "#Export the city data into a .csv.\n",
    "weather_df .to_csv(\"city_data.csv\")"
   ]
  },
  {
   "cell_type": "code",
   "execution_count": 43,
   "metadata": {},
   "outputs": [
    {
     "data": {
      "text/html": [
       "<div>\n",
       "<style scoped>\n",
       "    .dataframe tbody tr th:only-of-type {\n",
       "        vertical-align: middle;\n",
       "    }\n",
       "\n",
       "    .dataframe tbody tr th {\n",
       "        vertical-align: top;\n",
       "    }\n",
       "\n",
       "    .dataframe thead th {\n",
       "        text-align: right;\n",
       "    }\n",
       "</style>\n",
       "<table border=\"1\" class=\"dataframe\">\n",
       "  <thead>\n",
       "    <tr style=\"text-align: right;\">\n",
       "      <th></th>\n",
       "      <th>City</th>\n",
       "      <th>lat</th>\n",
       "      <th>lng</th>\n",
       "      <th>Max Temp</th>\n",
       "      <th>Humidity</th>\n",
       "      <th>Clouds</th>\n",
       "      <th>Wind Speed</th>\n",
       "      <th>Country</th>\n",
       "      <th>Date</th>\n",
       "    </tr>\n",
       "  </thead>\n",
       "  <tbody>\n",
       "  </tbody>\n",
       "</table>\n",
       "</div>"
      ],
      "text/plain": [
       "Empty DataFrame\n",
       "Columns: [City, lat, lng, Max Temp, Humidity, Clouds, Wind Speed, Country, Date]\n",
       "Index: []"
      ]
     },
     "execution_count": 43,
     "metadata": {},
     "output_type": "execute_result"
    }
   ],
   "source": [
    "#Inspect the data for cities where the humidity > 100%\n",
    "humidity_data = weather_df.loc[weather_df[\"Humidity\"] > 100, :]\n",
    "humidity_data\n",
    "#No cities with humidity > 100%"
   ]
  },
  {
   "cell_type": "markdown",
   "metadata": {},
   "source": [
    "## Latitude vs. Temperature Plot"
   ]
  },
  {
   "cell_type": "code",
   "execution_count": 12,
   "metadata": {
    "scrolled": true
   },
   "outputs": [
    {
     "data": {
      "image/png": "[encoded data removed]",
      "text/plain": [
       "<Figure size 432x288 with 1 Axes>"
      ]
     },
     "metadata": {
      "needs_background": "light"
     },
     "output_type": "display_data"
    }
   ],
   "source": [
    "#Create a Scatter Plot for temperature vs. latitude\n",
    "fig, ax = plt.subplots()\n",
    "x_values = weather_df[\"lat\"]\n",
    "y_values = weather_df[\"Max Temp\"]\n",
    "plt.scatter(x_values, y_values, edgecolors = \"black\" )\n",
    "\n",
    "#Label the graphs as needed\n",
    "plt.title(\"City Latitude vs. Max Temperature\", fontsize = 12)\n",
    "plt.xlabel(\"Latitude\")\n",
    "plt.ylabel(\"Max Temperature(F)\")\n",
    "\n",
    "#Display the grid \n",
    "ax.set_axisbelow(False)\n",
    "ax.grid(linestyle = '-')\n",
    "\n",
    "#Display the graph and save it\n",
    "plt.show()\n",
    "fig.savefig(\"../Graphs/latitude_vs_Temp.png\")"
   ]
  },
  {
   "cell_type": "markdown",
   "metadata": {},
   "source": [
    "#### Using plypot module from matplotlib a scatter plot is created where each dot shows one city's maximum temperature versus its latitude on 09/23/2020."
   ]
  },
  {
   "cell_type": "markdown",
   "metadata": {},
   "source": [
    "## Latitude vs. Humidity Plot"
   ]
  },
  {
   "cell_type": "code",
   "execution_count": 13,
   "metadata": {},
   "outputs": [
    {
     "data": {
      "image/png": "[encoded data removed]",
      "text/plain": [
       "<Figure size 432x288 with 1 Axes>"
      ]
     },
     "metadata": {
      "needs_background": "light"
     },
     "output_type": "display_data"
    }
   ],
   "source": [
    "#Create a Scatter Plot for Humidity vs. Latitude\n",
    "fig1, ax1 = plt.subplots()\n",
    "x_values = weather_df[\"lat\"]\n",
    "y_values = weather_df[\"Humidity\"]\n",
    "plt.scatter(x_values, y_values, edgecolors = \"black\" )\n",
    "\n",
    "#label the graph as needed\n",
    "plt.title(\"City Latitude vs. Humidity\", fontsize = 12)\n",
    "plt.xlabel(\"Latitude\")\n",
    "plt.ylabel(\"Humidity(%)\")\n",
    "\n",
    "#Set the grid\n",
    "ax1.set_axisbelow(False)\n",
    "ax1.grid(linestyle = '-')\n",
    "\n",
    "#Display the graph and save it\n",
    "plt.show()\n",
    "fig1.savefig(\"../Graphs/latitude_vs_humidity.png\")"
   ]
  },
  {
   "cell_type": "markdown",
   "metadata": {},
   "source": [
    "#### Using plypot module from matplotlib a scatter plot is created where each dot shows one city's percentage of humidity versus its latitude on 09/23/2020."
   ]
  },
  {
   "cell_type": "markdown",
   "metadata": {},
   "source": [
    "## Latitude vs. Cloudiness Plot"
   ]
  },
  {
   "cell_type": "code",
   "execution_count": 14,
   "metadata": {},
   "outputs": [
    {
     "data": {
      "image/png": "[encoded data removed]",
      "text/plain": [
       "<Figure size 432x288 with 1 Axes>"
      ]
     },
     "metadata": {
      "needs_background": "light"
     },
     "output_type": "display_data"
    }
   ],
   "source": [
    "#Create a Scatter Plot for Cloudiness vs Latitude\n",
    "fig2, ax2 = plt.subplots()\n",
    "x_values = weather_df[\"lat\"]\n",
    "y_values = weather_df[\"Clouds\"]\n",
    "plt.scatter(x_values, y_values, edgecolors = \"black\" )\n",
    "\n",
    "#Set the label as needed\n",
    "plt.title(\"City Latitude vs. Cloudiness\", fontsize = 12)\n",
    "plt.xlabel(\"Latitude\")\n",
    "plt.ylabel(\"Cloudiness(%)\")\n",
    "\n",
    "#Set the grid\n",
    "ax2.set_axisbelow(False)\n",
    "ax2.grid(linestyle = '-')\n",
    "\n",
    "#Display the graph and save it\n",
    "plt.show()\n",
    "fig2.savefig(\"../Graphs/latitude_vs_Cloudiness.png\")"
   ]
  },
  {
   "cell_type": "markdown",
   "metadata": {},
   "source": [
    "#### Using plypot mudule from matplotlib a scatter plot is created where each dot shows one city's percentage of cloudiness versus its latitude on 09/23/2020"
   ]
  },
  {
   "cell_type": "markdown",
   "metadata": {},
   "source": [
    "## Latitude vs. Wind Speed Plot"
   ]
  },
  {
   "cell_type": "code",
   "execution_count": 15,
   "metadata": {},
   "outputs": [
    {
     "data": {
      "image/png": "[encoded data removed]",
      "text/plain": [
       "<Figure size 432x288 with 1 Axes>"
      ]
     },
     "metadata": {
      "needs_background": "light"
     },
     "output_type": "display_data"
    }
   ],
   "source": [
    "#Create a Scatter Plot for Wind Speed vs Latitude\n",
    "fig3, ax3 = plt.subplots()\n",
    "x_values = weather_df[\"lat\"]\n",
    "y_values = weather_df[\"Wind Speed\"]\n",
    "plt.scatter(x_values, y_values, edgecolors = \"black\" )\n",
    "\n",
    "#Set the labels as needed\n",
    "plt.title(\"City Latitude vs. Wind Speed\", fontsize = 12)\n",
    "plt.xlabel(\"Latitude\")\n",
    "plt.ylabel(\"Wind Speed(mph)\")\n",
    "\n",
    "#Set the grid\n",
    "ax3.set_axisbelow(False)\n",
    "ax3.grid(linestyle = '-')\n",
    "\n",
    "#Display the grah and save it\n",
    "plt.show()\n",
    "fig3.savefig(\"../Graphs/latitude_vs_Wind.png\")"
   ]
  },
  {
   "cell_type": "markdown",
   "metadata": {},
   "source": [
    "#### Using plypot module from matplotlib a scatter plot is created where each dot shows one city's latitude versus the speed of wind on 09/23/2020."
   ]
  },
  {
   "cell_type": "markdown",
   "metadata": {},
   "source": [
    "## Linear Regression"
   ]
  },
  {
   "cell_type": "code",
   "execution_count": 16,
   "metadata": {},
   "outputs": [
    {
     "data": {
      "text/html": [
       "<div>\n",
       "<style scoped>\n",
       "    .dataframe tbody tr th:only-of-type {\n",
       "        vertical-align: middle;\n",
       "    }\n",
       "\n",
       "    .dataframe tbody tr th {\n",
       "        vertical-align: top;\n",
       "    }\n",
       "\n",
       "    .dataframe thead th {\n",
       "        text-align: right;\n",
       "    }\n",
       "</style>\n",
       "<table border=\"1\" class=\"dataframe\">\n",
       "  <thead>\n",
       "    <tr style=\"text-align: right;\">\n",
       "      <th></th>\n",
       "      <th>City</th>\n",
       "      <th>lat</th>\n",
       "      <th>lng</th>\n",
       "      <th>Max Temp</th>\n",
       "      <th>Humidity</th>\n",
       "      <th>Clouds</th>\n",
       "      <th>Wind Speed</th>\n",
       "      <th>Country</th>\n",
       "      <th>Date</th>\n",
       "    </tr>\n",
       "  </thead>\n",
       "  <tbody>\n",
       "    <tr>\n",
       "      <th>0</th>\n",
       "      <td>Albany</td>\n",
       "      <td>42.60</td>\n",
       "      <td>-73.97</td>\n",
       "      <td>73.00</td>\n",
       "      <td>45</td>\n",
       "      <td>16</td>\n",
       "      <td>7.47</td>\n",
       "      <td>US</td>\n",
       "      <td>1600898722</td>\n",
       "    </tr>\n",
       "    <tr>\n",
       "      <th>2</th>\n",
       "      <td>Malbork</td>\n",
       "      <td>54.04</td>\n",
       "      <td>19.03</td>\n",
       "      <td>64.40</td>\n",
       "      <td>63</td>\n",
       "      <td>50</td>\n",
       "      <td>7.63</td>\n",
       "      <td>PL</td>\n",
       "      <td>1600898723</td>\n",
       "    </tr>\n",
       "    <tr>\n",
       "      <th>3</th>\n",
       "      <td>Sivaki</td>\n",
       "      <td>52.63</td>\n",
       "      <td>126.75</td>\n",
       "      <td>49.78</td>\n",
       "      <td>96</td>\n",
       "      <td>100</td>\n",
       "      <td>9.80</td>\n",
       "      <td>RU</td>\n",
       "      <td>1600898723</td>\n",
       "    </tr>\n",
       "    <tr>\n",
       "      <th>4</th>\n",
       "      <td>Bousso</td>\n",
       "      <td>10.48</td>\n",
       "      <td>16.71</td>\n",
       "      <td>73.76</td>\n",
       "      <td>89</td>\n",
       "      <td>100</td>\n",
       "      <td>4.97</td>\n",
       "      <td>TD</td>\n",
       "      <td>1600898723</td>\n",
       "    </tr>\n",
       "    <tr>\n",
       "      <th>5</th>\n",
       "      <td>Peleduy</td>\n",
       "      <td>59.63</td>\n",
       "      <td>112.74</td>\n",
       "      <td>42.26</td>\n",
       "      <td>87</td>\n",
       "      <td>0</td>\n",
       "      <td>2.86</td>\n",
       "      <td>RU</td>\n",
       "      <td>1600898723</td>\n",
       "    </tr>\n",
       "  </tbody>\n",
       "</table>\n",
       "</div>"
      ],
      "text/plain": [
       "      City    lat     lng  Max Temp  Humidity  Clouds  Wind Speed Country  \\\n",
       "0   Albany  42.60  -73.97     73.00        45      16        7.47      US   \n",
       "2  Malbork  54.04   19.03     64.40        63      50        7.63      PL   \n",
       "3   Sivaki  52.63  126.75     49.78        96     100        9.80      RU   \n",
       "4   Bousso  10.48   16.71     73.76        89     100        4.97      TD   \n",
       "5  Peleduy  59.63  112.74     42.26        87       0        2.86      RU   \n",
       "\n",
       "         Date  \n",
       "0  1600898722  \n",
       "2  1600898723  \n",
       "3  1600898723  \n",
       "4  1600898723  \n",
       "5  1600898723  "
      ]
     },
     "execution_count": 16,
     "metadata": {},
     "output_type": "execute_result"
    }
   ],
   "source": [
    "#Create a dataframe for cities in Northern Hemisphere\n",
    "Northern_df = weather_df.loc[weather_df[\"lat\"]>= 0, :]\n",
    "Northern_df.head()"
   ]
  },
  {
   "cell_type": "code",
   "execution_count": 17,
   "metadata": {},
   "outputs": [
    {
     "data": {
      "text/html": [
       "<div>\n",
       "<style scoped>\n",
       "    .dataframe tbody tr th:only-of-type {\n",
       "        vertical-align: middle;\n",
       "    }\n",
       "\n",
       "    .dataframe tbody tr th {\n",
       "        vertical-align: top;\n",
       "    }\n",
       "\n",
       "    .dataframe thead th {\n",
       "        text-align: right;\n",
       "    }\n",
       "</style>\n",
       "<table border=\"1\" class=\"dataframe\">\n",
       "  <thead>\n",
       "    <tr style=\"text-align: right;\">\n",
       "      <th></th>\n",
       "      <th>City</th>\n",
       "      <th>lat</th>\n",
       "      <th>lng</th>\n",
       "      <th>Max Temp</th>\n",
       "      <th>Humidity</th>\n",
       "      <th>Clouds</th>\n",
       "      <th>Wind Speed</th>\n",
       "      <th>Country</th>\n",
       "      <th>Date</th>\n",
       "    </tr>\n",
       "  </thead>\n",
       "  <tbody>\n",
       "    <tr>\n",
       "      <th>1</th>\n",
       "      <td>Rikitea</td>\n",
       "      <td>-23.12</td>\n",
       "      <td>-134.97</td>\n",
       "      <td>72.79</td>\n",
       "      <td>73</td>\n",
       "      <td>1</td>\n",
       "      <td>11.99</td>\n",
       "      <td>PF</td>\n",
       "      <td>1600898722</td>\n",
       "    </tr>\n",
       "    <tr>\n",
       "      <th>11</th>\n",
       "      <td>Ushuaia</td>\n",
       "      <td>-54.80</td>\n",
       "      <td>-68.30</td>\n",
       "      <td>51.80</td>\n",
       "      <td>50</td>\n",
       "      <td>40</td>\n",
       "      <td>17.22</td>\n",
       "      <td>AR</td>\n",
       "      <td>1600898494</td>\n",
       "    </tr>\n",
       "    <tr>\n",
       "      <th>13</th>\n",
       "      <td>Mataura</td>\n",
       "      <td>-46.19</td>\n",
       "      <td>168.86</td>\n",
       "      <td>57.00</td>\n",
       "      <td>70</td>\n",
       "      <td>70</td>\n",
       "      <td>5.01</td>\n",
       "      <td>NZ</td>\n",
       "      <td>1600898584</td>\n",
       "    </tr>\n",
       "    <tr>\n",
       "      <th>15</th>\n",
       "      <td>Hermanus</td>\n",
       "      <td>-34.42</td>\n",
       "      <td>19.23</td>\n",
       "      <td>55.00</td>\n",
       "      <td>88</td>\n",
       "      <td>0</td>\n",
       "      <td>5.99</td>\n",
       "      <td>ZA</td>\n",
       "      <td>1600898725</td>\n",
       "    </tr>\n",
       "    <tr>\n",
       "      <th>18</th>\n",
       "      <td>Puerto Ayora</td>\n",
       "      <td>-0.74</td>\n",
       "      <td>-90.35</td>\n",
       "      <td>69.01</td>\n",
       "      <td>85</td>\n",
       "      <td>100</td>\n",
       "      <td>11.01</td>\n",
       "      <td>EC</td>\n",
       "      <td>1600898725</td>\n",
       "    </tr>\n",
       "  </tbody>\n",
       "</table>\n",
       "</div>"
      ],
      "text/plain": [
       "            City    lat     lng  Max Temp  Humidity  Clouds  Wind Speed  \\\n",
       "1        Rikitea -23.12 -134.97     72.79        73       1       11.99   \n",
       "11       Ushuaia -54.80  -68.30     51.80        50      40       17.22   \n",
       "13       Mataura -46.19  168.86     57.00        70      70        5.01   \n",
       "15      Hermanus -34.42   19.23     55.00        88       0        5.99   \n",
       "18  Puerto Ayora  -0.74  -90.35     69.01        85     100       11.01   \n",
       "\n",
       "   Country        Date  \n",
       "1       PF  1600898722  \n",
       "11      AR  1600898494  \n",
       "13      NZ  1600898584  \n",
       "15      ZA  1600898725  \n",
       "18      EC  1600898725  "
      ]
     },
     "execution_count": 17,
     "metadata": {},
     "output_type": "execute_result"
    }
   ],
   "source": [
    "#Create a dataframe for cities in Southern Hemisphere\n",
    "Southern_df = weather_df.loc[weather_df[\"lat\"]< 0, :]\n",
    "Southern_df.head()"
   ]
  },
  {
   "cell_type": "markdown",
   "metadata": {},
   "source": [
    "####  Northern Hemisphere - Max Temp vs. Latitude Linear Regression"
   ]
  },
  {
   "cell_type": "code",
   "execution_count": 18,
   "metadata": {},
   "outputs": [],
   "source": [
    "#Set the values of x-axis and y-axis\n",
    "n_lat = Northern_df[\"lat\"]\n",
    "n_temp = Northern_df[\"Max Temp\"]\n",
    "\n",
    "# Perform a linear regression on temperature vs. latitude for northern hemisphere\n",
    "(slope, intercept, rvalue, pvalue, stderr) = stats.linregress(n_lat, n_temp)\n",
    "\n",
    "# Get regression values\n",
    "regress_values = n_lat * slope + intercept"
   ]
  },
  {
   "cell_type": "code",
   "execution_count": 19,
   "metadata": {},
   "outputs": [
    {
     "data": {
      "text/plain": [
       "'y = -0.73x + 92.75'"
      ]
     },
     "execution_count": 19,
     "metadata": {},
     "output_type": "execute_result"
    }
   ],
   "source": [
    "#Create line equation string\n",
    "line_eq = \"y = \" +str(round(slope,2)) + \"x + \" + str(round(intercept,2))\n",
    "line_eq"
   ]
  },
  {
   "cell_type": "code",
   "execution_count": 20,
   "metadata": {},
   "outputs": [
    {
     "name": "stdout",
     "output_type": "stream",
     "text": [
      "The r-value is: 0.7020475722614355\n"
     ]
    },
    {
     "data": {
      "image/png": "[encoded data removed]",
      "text/plain": [
       "<Figure size 432x288 with 1 Axes>"
      ]
     },
     "metadata": {
      "needs_background": "light"
     },
     "output_type": "display_data"
    }
   ],
   "source": [
    "#Create Scatter Plot\n",
    "plt.scatter(n_lat, n_temp)\n",
    "\n",
    "#Label plot and annote the line equation\n",
    "plt.plot(n_lat, regress_values, \"r-\")\n",
    "plt.annotate(line_eq, (0,15), fontsize = 15, color = \"red\")\n",
    "plt.xlabel(\"Latitude\")\n",
    "plt.ylabel(\"Max Temperature(F)\")\n",
    "#Print r square value\n",
    "print(f'The r-value is: {rvalue**2}')\n",
    "\n",
    "#Show plot\n",
    "plt.show()"
   ]
  },
  {
   "cell_type": "markdown",
   "metadata": {},
   "source": [
    "#### The linear regression displayed on th graph shows that there is  a negative relationship between temperature and the latitude of cities in Northern Hemisphere. As the range of latitude is increasing the max temperature is decreasing. "
   ]
  },
  {
   "cell_type": "markdown",
   "metadata": {},
   "source": [
    "####  Southern Hemisphere - Max Temp vs. Latitude Linear Regression"
   ]
  },
  {
   "cell_type": "code",
   "execution_count": 21,
   "metadata": {},
   "outputs": [],
   "source": [
    "#Set the values of x-axis and y-axis\n",
    "s_lat = Southern_df[\"lat\"]\n",
    "s_temp = Southern_df[\"Max Temp\"]\n",
    "\n",
    "# Perform a linear regression on temperature vs. latitude for southern hemisphere\n",
    "(slope1, intercept1, rvalue1, pvalue1, stderr1) = stats.linregress(s_lat, s_temp)\n",
    "\n",
    "# Get regression values\n",
    "regress_values1 = s_lat * slope1 + intercept1"
   ]
  },
  {
   "cell_type": "code",
   "execution_count": 22,
   "metadata": {},
   "outputs": [
    {
     "data": {
      "text/plain": [
       "'y = 0.63x + 81.34'"
      ]
     },
     "execution_count": 22,
     "metadata": {},
     "output_type": "execute_result"
    }
   ],
   "source": [
    "#Create line equation string\n",
    "line_eq1 = \"y = \" +str(round(slope1,2)) + \"x + \" + str(round(intercept1,2))\n",
    "line_eq1"
   ]
  },
  {
   "cell_type": "code",
   "execution_count": 23,
   "metadata": {},
   "outputs": [
    {
     "name": "stdout",
     "output_type": "stream",
     "text": [
      "The r-value is: 0.5982244093157536\n"
     ]
    },
    {
     "data": {
      "image/png": "[encoded data removed]",
      "text/plain": [
       "<Figure size 432x288 with 1 Axes>"
      ]
     },
     "metadata": {
      "needs_background": "light"
     },
     "output_type": "display_data"
    }
   ],
   "source": [
    "#Create Scatter Plot\n",
    "plt.scatter(s_lat, s_temp)\n",
    "\n",
    "#Label plot and annote the line equation\n",
    "plt.plot(s_lat, regress_values1, \"r-\")\n",
    "plt.annotate(line_eq1,(-25,40), fontsize = 15, color = \"red\")\n",
    "plt.xlabel(\"Latitude\")\n",
    "plt.ylabel(\"Max Temperature(F)\")\n",
    "\n",
    "plt.ylim(top = 100)\n",
    "\n",
    "#Print r square value\n",
    "print(f'The r-value is: {rvalue1**2}')\n",
    "\n",
    "#Show plot\n",
    "plt.show()"
   ]
  },
  {
   "cell_type": "markdown",
   "metadata": {},
   "source": [
    "#### Here we see a positive relationship between the temperature and the latitudes of the cities in the Southern Hemisphere. This along with the plot for Northern Hemisphere tells us that as we move towards the equator the temperature rises. "
   ]
  },
  {
   "cell_type": "markdown",
   "metadata": {},
   "source": [
    "####  Northern Hemisphere - Humidity (%) vs. Latitude Linear Regression"
   ]
  },
  {
   "cell_type": "code",
   "execution_count": 24,
   "metadata": {},
   "outputs": [],
   "source": [
    "#Set the values of x-axis and y-axis\n",
    "n_lat = Northern_df[\"lat\"]\n",
    "n_hum = Northern_df[\"Humidity\"]\n",
    "\n",
    "# Perform a linear regression on humidity vs. latitude for northern hemisphere\n",
    "(slope2, intercept2, rvalue2, pvalue2, stderr2) = stats.linregress(n_lat, n_hum)\n",
    "\n",
    "# Get regression values\n",
    "regress_values2 = n_lat * slope2 + intercept2"
   ]
  },
  {
   "cell_type": "code",
   "execution_count": 25,
   "metadata": {},
   "outputs": [
    {
     "data": {
      "text/plain": [
       "'y = 0.06x + 69.14'"
      ]
     },
     "execution_count": 25,
     "metadata": {},
     "output_type": "execute_result"
    }
   ],
   "source": [
    "#Create line equation string\n",
    "line_eq2 = \"y = \" +str(round(slope2,2)) + \"x + \" + str(round(intercept2,2))\n",
    "line_eq2"
   ]
  },
  {
   "cell_type": "code",
   "execution_count": 26,
   "metadata": {},
   "outputs": [
    {
     "name": "stdout",
     "output_type": "stream",
     "text": [
      "The r-value is: 0.0034436802323777873\n"
     ]
    },
    {
     "data": {
      "image/png": "[encoded data removed]",
      "text/plain": [
       "<Figure size 432x288 with 1 Axes>"
      ]
     },
     "metadata": {
      "needs_background": "light"
     },
     "output_type": "display_data"
    }
   ],
   "source": [
    "#Create Scatter Plot\n",
    "plt.scatter(n_lat, n_hum)\n",
    "\n",
    "#Label plot and annote the line equation\n",
    "plt.plot(n_lat, regress_values2, \"r-\")\n",
    "plt.annotate(line_eq2, (45,10), fontsize = 15, color = \"red\")\n",
    "plt.xlabel(\"Latitude\")\n",
    "plt.ylabel(\"Humidity(%)\")\n",
    "plt.ylim(top = 110)\n",
    "#Print r square value\n",
    "print(f'The r-value is: {rvalue2**2}')\n",
    "\n",
    "#Show plot\n",
    "plt.show()"
   ]
  },
  {
   "cell_type": "markdown",
   "metadata": {},
   "source": [
    "#### The latitudes of the cities does not have a relation with the humidity as shown in the graph. The slope is almost non existence indicating that changes in latitude has no effect on humidity."
   ]
  },
  {
   "cell_type": "markdown",
   "metadata": {},
   "source": [
    "####  Southern Hemisphere - Humidity (%) vs. Latitude Linear Regression"
   ]
  },
  {
   "cell_type": "code",
   "execution_count": 27,
   "metadata": {},
   "outputs": [],
   "source": [
    "#Set the values of x-axis and y-axis\n",
    "s_lat = Southern_df[\"lat\"]\n",
    "s_hum = Southern_df[\"Humidity\"]\n",
    "\n",
    "# Perform a linear regression on humidity vs. latitude for southern hemisphere\n",
    "(slope3, intercept3, rvalue3, pvalue3, stderr3) = stats.linregress(s_lat, s_hum)\n",
    "\n",
    "# Get regression values\n",
    "regress_values3 = s_lat * slope3 + intercept3"
   ]
  },
  {
   "cell_type": "code",
   "execution_count": 28,
   "metadata": {},
   "outputs": [
    {
     "data": {
      "text/plain": [
       "'y = 0.23x + 77.35'"
      ]
     },
     "execution_count": 28,
     "metadata": {},
     "output_type": "execute_result"
    }
   ],
   "source": [
    "#Create line equation string\n",
    "line_eq3 = \"y = \" +str(round(slope3,2)) + \"x + \" + str(round(intercept3,2))\n",
    "line_eq3"
   ]
  },
  {
   "cell_type": "code",
   "execution_count": 29,
   "metadata": {},
   "outputs": [
    {
     "name": "stdout",
     "output_type": "stream",
     "text": [
      "The r-value is: 0.03293469304883366\n"
     ]
    },
    {
     "data": {
      "image/png": "[encoded data removed]",
      "text/plain": [
       "<Figure size 432x288 with 1 Axes>"
      ]
     },
     "metadata": {
      "needs_background": "light"
     },
     "output_type": "display_data"
    }
   ],
   "source": [
    "#Create Scatter Plot\n",
    "plt.scatter(s_lat, s_hum)\n",
    "\n",
    "#Label plot and annote the line equation\n",
    "plt.plot(s_lat, regress_values3, \"r-\")\n",
    "plt.annotate(line_eq3,(-55,15), fontsize = 15, color = \"red\")\n",
    "plt.xlabel(\"Latitude\")\n",
    "plt.ylabel(\"Humidity(%)\")\n",
    "plt.ylim(top = 110)\n",
    "#Print r square value\n",
    "print(f'The r-value is: {rvalue3**2}')\n",
    "\n",
    "#Show plot\n",
    "plt.show()"
   ]
  },
  {
   "cell_type": "markdown",
   "metadata": {},
   "source": [
    "#### On the Southern hemisphere, there is a slight increase in slope of the line. The percentage of humidity is increasing as we move close towards the equator. "
   ]
  },
  {
   "cell_type": "markdown",
   "metadata": {},
   "source": [
    "####  Northern Hemisphere - Cloudiness (%) vs. Latitude Linear Regression"
   ]
  },
  {
   "cell_type": "code",
   "execution_count": 30,
   "metadata": {},
   "outputs": [],
   "source": [
    "#Set the values of x-axis and y-axis\n",
    "n_lat = Northern_df[\"lat\"]\n",
    "n_cloud = Northern_df[\"Clouds\"]\n",
    "\n",
    "# Perform a linear regression on cloudiness vs. latitude for northern hemisphere\n",
    "(slope4, intercept4, rvalue4, pvalue4, stderr4) = stats.linregress(n_lat, n_cloud)\n",
    "\n",
    "# Get regression values\n",
    "regress_values4 = n_lat * slope4 + intercept4"
   ]
  },
  {
   "cell_type": "code",
   "execution_count": 31,
   "metadata": {},
   "outputs": [
    {
     "data": {
      "text/plain": [
       "'y = 0.06x + 69.14'"
      ]
     },
     "execution_count": 31,
     "metadata": {},
     "output_type": "execute_result"
    }
   ],
   "source": [
    "#Create line equation string\n",
    "line_eq4 = \"y = \" +str(round(slope2,2)) + \"x + \" + str(round(intercept2,2))\n",
    "line_eq4"
   ]
  },
  {
   "cell_type": "code",
   "execution_count": 32,
   "metadata": {},
   "outputs": [
    {
     "name": "stdout",
     "output_type": "stream",
     "text": [
      "The r-value is: 0.00035021479955532305\n"
     ]
    },
    {
     "data": {
      "image/png": "[encoded data removed]",
      "text/plain": [
       "<Figure size 432x288 with 1 Axes>"
      ]
     },
     "metadata": {
      "needs_background": "light"
     },
     "output_type": "display_data"
    }
   ],
   "source": [
    "#Create Scatter Plot\n",
    "plt.scatter(n_lat, n_cloud)\n",
    "\n",
    "#Label plot and annote the line equation\n",
    "plt.plot(n_lat, regress_values4, \"r-\")\n",
    "plt.annotate(line_eq4, (45,10), fontsize = 15, color = \"red\")\n",
    "plt.xlabel(\"Latitude\")\n",
    "plt.ylabel(\"Cloudiness(%)\")\n",
    "\n",
    "#Print r square value\n",
    "print(f'The r-value is: {rvalue4**2}')\n",
    "\n",
    "#Show plot\n",
    "plt.show()"
   ]
  },
  {
   "cell_type": "markdown",
   "metadata": {},
   "source": [
    "#### There is no correlation betweeen the percentage of cloudiness and the latitudes of the cities in the Northern Hemisphere. "
   ]
  },
  {
   "cell_type": "markdown",
   "metadata": {},
   "source": [
    "####  Southern Hemisphere - Cloudiness (%) vs. Latitude Linear Regression"
   ]
  },
  {
   "cell_type": "code",
   "execution_count": 33,
   "metadata": {},
   "outputs": [],
   "source": [
    "#Set the values of x-axis and y-axis\n",
    "s_lat = Southern_df[\"lat\"]\n",
    "s_cloud = Southern_df[\"Clouds\"]\n",
    "\n",
    "# Perform a linear regression on temperature vs. cloudiness for southern hemisphere\n",
    "(slope4, intercept4, rvalue4, pvalue4, stderr4) = stats.linregress(s_lat, s_cloud)\n",
    "\n",
    "# Get regression values\n",
    "regress_values4 = s_lat * slope4 + intercept4"
   ]
  },
  {
   "cell_type": "code",
   "execution_count": 34,
   "metadata": {},
   "outputs": [
    {
     "data": {
      "text/plain": [
       "'y = 0.36x + 55.58'"
      ]
     },
     "execution_count": 34,
     "metadata": {},
     "output_type": "execute_result"
    }
   ],
   "source": [
    "#Create line equation string\n",
    "line_eq4 = \"y = \" +str(round(slope4,2)) + \"x + \" + str(round(intercept4,2))\n",
    "line_eq4"
   ]
  },
  {
   "cell_type": "code",
   "execution_count": 35,
   "metadata": {},
   "outputs": [
    {
     "name": "stdout",
     "output_type": "stream",
     "text": [
      "The r-value is: 0.020645427575944904\n"
     ]
    },
    {
     "data": {
      "image/png": "[encoded data removed]",
      "text/plain": [
       "<Figure size 432x288 with 1 Axes>"
      ]
     },
     "metadata": {
      "needs_background": "light"
     },
     "output_type": "display_data"
    }
   ],
   "source": [
    "#Create Scatter Plot\n",
    "plt.scatter(s_lat, s_cloud)\n",
    "\n",
    "#Label plot and annote the line equation\n",
    "plt.plot(s_lat, regress_values4, \"r-\")\n",
    "plt.annotate(line_eq4,(-55,10), fontsize = 15, color = \"red\")\n",
    "plt.xlabel(\"Latitude\")\n",
    "plt.ylabel(\"Cloudiness(%)\")\n",
    "\n",
    "#Print r square value\n",
    "print(f'The r-value is: {rvalue4**2}')\n",
    "\n",
    "#Show plot\n",
    "plt.show()"
   ]
  },
  {
   "cell_type": "markdown",
   "metadata": {},
   "source": [
    "#### There is no correlation betweeen the percentage of cloudiness and the latitudes of the cities in the Southern Hemisphere."
   ]
  },
  {
   "cell_type": "markdown",
   "metadata": {},
   "source": [
    "####  Northern Hemisphere - Wind Speed (mph) vs. Latitude Linear Regression"
   ]
  },
  {
   "cell_type": "code",
   "execution_count": 36,
   "metadata": {},
   "outputs": [],
   "source": [
    "#Set the values of x-axis and y-axis\n",
    "n_lat = Northern_df[\"lat\"]\n",
    "n_wind = Northern_df[\"Wind Speed\"]\n",
    "\n",
    "# Perform a linear regression on wind speed vs. latitude for northern hemisphere\n",
    "(slope5, intercept5, rvalue5, pvalue5, stderr5) = stats.linregress(n_lat, n_wind)\n",
    "\n",
    "# Get regression values\n",
    "regress_values5 = n_lat * slope5 + intercept5"
   ]
  },
  {
   "cell_type": "code",
   "execution_count": 37,
   "metadata": {},
   "outputs": [
    {
     "data": {
      "text/plain": [
       "'y = 0.04x + 6.83'"
      ]
     },
     "execution_count": 37,
     "metadata": {},
     "output_type": "execute_result"
    }
   ],
   "source": [
    "#Create line equation string\n",
    "line_eq5 = \"y = \" +str(round(slope5,2)) + \"x + \" + str(round(intercept5,2))\n",
    "line_eq5"
   ]
  },
  {
   "cell_type": "code",
   "execution_count": 38,
   "metadata": {},
   "outputs": [
    {
     "name": "stdout",
     "output_type": "stream",
     "text": [
      "The r-value is: 0.014180036021142711\n"
     ]
    },
    {
     "data": {
      "image/png": "[encoded data removed]",
      "text/plain": [
       "<Figure size 432x288 with 1 Axes>"
      ]
     },
     "metadata": {
      "needs_background": "light"
     },
     "output_type": "display_data"
    }
   ],
   "source": [
    "#Create Scatter Plot\n",
    "plt.scatter(n_lat, n_wind)\n",
    "\n",
    "#Label plot and annote the line equation\n",
    "plt.plot(n_lat, regress_values5, \"r-\")\n",
    "plt.annotate(line_eq5, (45,40), fontsize = 15, color = \"red\")\n",
    "plt.xlabel(\"Latitude\")\n",
    "plt.ylabel(\"Wind Speed(mph)\")\n",
    "\n",
    "#Print r square value\n",
    "print(f'The r-value is: {rvalue5**2}')\n",
    "\n",
    "#Show plot\n",
    "plt.show()"
   ]
  },
  {
   "cell_type": "markdown",
   "metadata": {},
   "source": [
    "#### A weak positive relation is seen between the wind speed and the latitudes of the cites. Majority of them have less than 10 mph wind speed."
   ]
  },
  {
   "cell_type": "markdown",
   "metadata": {},
   "source": [
    "####  Southern Hemisphere - Wind Speed (mph) vs. Latitude Linear Regression"
   ]
  },
  {
   "cell_type": "code",
   "execution_count": 39,
   "metadata": {},
   "outputs": [],
   "source": [
    "#Set the values of x-axis and y-axis\n",
    "s_lat = Southern_df[\"lat\"]\n",
    "s_wind = Southern_df[\"Wind Speed\"]\n",
    "\n",
    "# Perform a linear regression on wind speed vs. latitude for southern hemisphere\n",
    "(slope6, intercept6, rvalue6, pvalue6, stderr6) = stats.linregress(s_lat, s_wind)\n",
    "\n",
    "# Get regression values\n",
    "regress_values6 = s_lat * slope6 + intercept6"
   ]
  },
  {
   "cell_type": "code",
   "execution_count": 40,
   "metadata": {},
   "outputs": [
    {
     "data": {
      "text/plain": [
       "'y = -0.09x + 5.55'"
      ]
     },
     "execution_count": 40,
     "metadata": {},
     "output_type": "execute_result"
    }
   ],
   "source": [
    "#Create line equation string\n",
    "line_eq6 = \"y = \" +str(round(slope6,2)) + \"x + \" + str(round(intercept6,2))\n",
    "line_eq6"
   ]
  },
  {
   "cell_type": "code",
   "execution_count": 41,
   "metadata": {},
   "outputs": [
    {
     "name": "stdout",
     "output_type": "stream",
     "text": [
      "The r-value is: 0.0707565712387555\n"
     ]
    },
    {
     "data": {
      "image/png": "[encoded data removed]",
      "text/plain": [
       "<Figure size 432x288 with 1 Axes>"
      ]
     },
     "metadata": {
      "needs_background": "light"
     },
     "output_type": "display_data"
    }
   ],
   "source": [
    "#Create Scatter Plot\n",
    "plt.scatter(s_lat, s_wind)\n",
    "\n",
    "#Label plot and annote the line equation\n",
    "plt.plot(s_lat, regress_values6, \"r-\")\n",
    "plt.annotate(line_eq6,(-55,15), fontsize = 15, color = \"red\")\n",
    "plt.xlabel(\"Latitude\")\n",
    "plt.ylabel(\"Wind Speed(mph)\")\n",
    "\n",
    "#Print r square value\n",
    "print(f'The r-value is: {rvalue6**2}')\n",
    "\n",
    "#Show plot\n",
    "plt.show()"
   ]
  },
  {
   "cell_type": "markdown",
   "metadata": {},
   "source": [
    "#### A weak negative correlation is seen between the speed of the wind and the latitudes of the cities in the Southern Hemisphere. "
   ]
  },
  {
   "cell_type": "code",
   "execution_count": null,
   "metadata": {},
   "outputs": [],
   "source": []
  }
 ],
 "metadata": {
  "anaconda-cloud": {},
  "kernel_info": {
   "name": "python3"
  },
  "kernelspec": {
   "display_name": "Python [conda env:PythonName2] *",
   "language": "python",
   "name": "conda-env-PythonName2-py"
  },
  "language_info": {
   "codemirror_mode": {
    "name": "ipython",
    "version": 3
   },
   "file_extension": ".py",
   "mimetype": "text/x-python",
   "name": "python",
   "nbconvert_exporter": "python",
   "pygments_lexer": "ipython3",
   "version": "3.6.10"
  },
  "latex_envs": {
   "LaTeX_envs_menu_present": true,
   "autoclose": false,
   "autocomplete": true,
   "bibliofile": "biblio.bib",
   "cite_by": "apalike",
   "current_citInitial": 1,
   "eqLabelWithNumbers": true,
   "eqNumInitial": 1,
   "hotkeys": {
    "equation": "Ctrl-E",
    "itemize": "Ctrl-I"
   },
   "labels_anchors": false,
   "latex_user_defs": false,
   "report_style_numbering": false,
   "user_envs_cfg": false
  },
  "nteract": {
   "version": "0.12.3"
  }
 },
 "nbformat": 4,
 "nbformat_minor": 2
}
